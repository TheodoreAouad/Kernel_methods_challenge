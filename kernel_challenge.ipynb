{
  "nbformat": 4,
  "nbformat_minor": 0,
  "metadata": {
    "colab": {
      "name": "kernel challenge.ipynb",
      "version": "0.3.2",
      "provenance": [],
      "collapsed_sections": [],
      "include_colab_link": true
    },
    "kernelspec": {
      "name": "python3",
      "display_name": "Python 3"
    }
  },
  "cells": [
    {
      "cell_type": "markdown",
      "metadata": {
        "id": "view-in-github",
        "colab_type": "text"
      },
      "source": [
        "<a href=\"https://colab.research.google.com/github/TheodoreAouad/Kernel_methods_challenge/blob/master/kernel_challenge.ipynb\" target=\"_parent\"><img src=\"https://colab.research.google.com/assets/colab-badge.svg\" alt=\"Open In Colab\"/></a>"
      ]
    },
    {
      "metadata": {
        "id": "XoCw7C3NpYu-",
        "colab_type": "text"
      },
      "cell_type": "markdown",
      "source": [
        "# Download the data"
      ]
    },
    {
      "metadata": {
        "id": "wqlyTgzcpZ_Q",
        "colab_type": "code",
        "colab": {}
      },
      "cell_type": "code",
      "source": [
        "#Create the ID to download from kaggle\n",
        "\n",
        "import os\n",
        "from getpass import getpass\n",
        "user ='theodoreaouad'# getpass('Kaggle Username: ')\n",
        "key = '26aa7ae4d00385b93ad9330965ad4c43' #getpass('Kaggle API key: ')\n",
        "\n",
        "if '.kaggle' not in os.listdir('/root'):\n",
        "    !mkdir ~/.kaggle\n",
        "!touch /root/.kaggle/kaggle.json\n",
        "!chmod 666 /root/.kaggle/kaggle.json\n",
        "with open('/root/.kaggle/kaggle.json', 'w') as f:\n",
        "    f.write('{\"username\":\"%s\",\"key\":\"%s\"}' % (user, key))\n",
        "!chmod 600 /root/.kaggle/kaggle.json\n",
        "\n",
        "#create a directory data to store the data inside it\n",
        "!mkdir data\n",
        "#download the data\n",
        "%cd data\n",
        "!kaggle competitions download -c kernel-methods-for-machine-learning-2018-2019\n",
        "!unzip Xte0_mat100.csv.zip\n",
        "!rm Xte0_mat100.csv.zip\n",
        "!unzip Xte1_mat100.csv.zip\n",
        "!rm Xte1_mat100.csv.zip\n",
        "!unzip Xte2_mat100.csv.zip\n",
        "!rm Xte2_mat100.csv.zip\n",
        "!unzip Xtr0_mat100.csv.zip\n",
        "!rm Xtr0_mat100.csv.zip\n",
        "!unzip Xtr1_mat100.csv.zip\n",
        "!rm Xtr1_mat100.csv.zip\n",
        "!unzip Xtr2_mat100.csv.zip\n",
        "!rm Xtr2_mat100.csv.zip\n",
        "%cd ../"
      ],
      "execution_count": 0,
      "outputs": []
    },
    {
      "metadata": {
        "id": "1oWTFlZKoUCr",
        "colab_type": "code",
        "colab": {}
      },
      "cell_type": "code",
      "source": [
        "import numpy as np\n",
        "import matplotlib.pyplot as plt"
      ],
      "execution_count": 0,
      "outputs": []
    },
    {
      "metadata": {
        "id": "wa6TG6eHp-ts",
        "colab_type": "text"
      },
      "cell_type": "markdown",
      "source": [
        "#Write the results"
      ]
    },
    {
      "metadata": {
        "id": "TYAUj09ep_qv",
        "colab_type": "code",
        "colab": {
          "base_uri": "https://localhost:8080/",
          "height": 34
        },
        "outputId": "94d389e8-9a15-4f9a-e565-4c3e90908cd7"
      },
      "cell_type": "code",
      "source": [
        "import csv\n",
        "from google.colab import files\n",
        "!mkdir results\n",
        "def write_csv(Ytest):\n",
        "  with open(\"results/Ytest.csv\", mode = \"w\") as f:\n",
        "    writer = csv.writer(f,delimiter = ',',quotechar='\"', quoting=csv.QUOTE_MINIMAL)\n",
        "    writer.writerow(['Id','Bound'])\n",
        "    for idx,label in enumerate(Ytest):\n",
        "      writer.writerow([str(idx),str(label)])"
      ],
      "execution_count": 19,
      "outputs": [
        {
          "output_type": "stream",
          "text": [
            "mkdir: cannot create directory ‘results’: File exists\n"
          ],
          "name": "stdout"
        }
      ]
    },
    {
      "metadata": {
        "id": "w99yqZqGqSW1",
        "colab_type": "code",
        "colab": {}
      },
      "cell_type": "code",
      "source": [
        "Ytr = np.random.randint(0,2,100)\n",
        "write_csv(Ytr)\n",
        "files.download(\"results/Ytest.csv\")"
      ],
      "execution_count": 0,
      "outputs": []
    }
  ]
}